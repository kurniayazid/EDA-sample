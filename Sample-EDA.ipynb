{
 "cells": [
  {
   "cell_type": "markdown",
   "metadata": {},
   "source": [
    "# Preliminary Exploratory Data Analysis sample code"
   ]
  },
  {
   "cell_type": "markdown",
   "metadata": {},
   "source": [
    "by Ega Kurnia Yazid"
   ]
  },
  {
   "cell_type": "markdown",
   "metadata": {},
   "source": [
    "## Data Setup - Preparation"
   ]
  },
  {
   "cell_type": "code",
   "execution_count": 2,
   "metadata": {},
   "outputs": [],
   "source": [
    "# Importing libraries and dependencies\n",
    "from datetime import timedelta\n",
    "import numpy as np\n",
    "import pandas as pd\n",
    "import matplotlib.pyplot as plt\n",
    "import seaborn as sns; sns.set_style(\"white\")\n",
    "%matplotlib inline"
   ]
  },
  {
   "cell_type": "code",
   "execution_count": 3,
   "metadata": {},
   "outputs": [],
   "source": [
    "# Importing data\n",
    "# Note: Make sure the file is in the same folder as the notebook\n",
    "df = pd.read_csv('NH_Technical_Test.csv') # Import your dataset here"
   ]
  },
  {
   "cell_type": "markdown",
   "metadata": {},
   "source": [
    "### Preliminary data check"
   ]
  },
  {
   "cell_type": "code",
   "execution_count": 4,
   "metadata": {},
   "outputs": [
    {
     "data": {
      "text/html": [
       "<div>\n",
       "<style scoped>\n",
       "    .dataframe tbody tr th:only-of-type {\n",
       "        vertical-align: middle;\n",
       "    }\n",
       "\n",
       "    .dataframe tbody tr th {\n",
       "        vertical-align: top;\n",
       "    }\n",
       "\n",
       "    .dataframe thead th {\n",
       "        text-align: right;\n",
       "    }\n",
       "</style>\n",
       "<table border=\"1\" class=\"dataframe\">\n",
       "  <thead>\n",
       "    <tr style=\"text-align: right;\">\n",
       "      <th></th>\n",
       "      <th>client_id</th>\n",
       "      <th>invoice_id</th>\n",
       "      <th>invoice_item_id</th>\n",
       "      <th>invoice_status</th>\n",
       "      <th>service_status</th>\n",
       "      <th>product_id</th>\n",
       "      <th>monthly_price_usd</th>\n",
       "      <th>discount</th>\n",
       "      <th>service_period</th>\n",
       "      <th>client_task</th>\n",
       "      <th>invoice_created_at</th>\n",
       "      <th>invoice_paid_at</th>\n",
       "      <th>service_cancelled_at</th>\n",
       "      <th>monthly_period</th>\n",
       "      <th>total_price</th>\n",
       "      <th>discounted_price</th>\n",
       "    </tr>\n",
       "  </thead>\n",
       "  <tbody>\n",
       "    <tr>\n",
       "      <th>0</th>\n",
       "      <td>9162</td>\n",
       "      <td>872143.0</td>\n",
       "      <td>1115707</td>\n",
       "      <td>Paid</td>\n",
       "      <td>Active</td>\n",
       "      <td>4</td>\n",
       "      <td>18</td>\n",
       "      <td>0.42</td>\n",
       "      <td>1Y</td>\n",
       "      <td>Renew</td>\n",
       "      <td>2019-12-05T22:36:44Z</td>\n",
       "      <td>2019-12-25T12:30:11Z</td>\n",
       "      <td>NaN</td>\n",
       "      <td>12</td>\n",
       "      <td>216</td>\n",
       "      <td>125.28</td>\n",
       "    </tr>\n",
       "    <tr>\n",
       "      <th>1</th>\n",
       "      <td>246708</td>\n",
       "      <td>875146.0</td>\n",
       "      <td>841327</td>\n",
       "      <td>Paid</td>\n",
       "      <td>Active</td>\n",
       "      <td>11</td>\n",
       "      <td>39</td>\n",
       "      <td>0.14</td>\n",
       "      <td>1M</td>\n",
       "      <td>Activate</td>\n",
       "      <td>2019-12-09T04:20:49Z</td>\n",
       "      <td>2019-12-09T04:25:11Z</td>\n",
       "      <td>NaN</td>\n",
       "      <td>1</td>\n",
       "      <td>39</td>\n",
       "      <td>33.54</td>\n",
       "    </tr>\n",
       "    <tr>\n",
       "      <th>2</th>\n",
       "      <td>52476</td>\n",
       "      <td>856128.0</td>\n",
       "      <td>1197628</td>\n",
       "      <td>Paid</td>\n",
       "      <td>Active</td>\n",
       "      <td>12</td>\n",
       "      <td>49</td>\n",
       "      <td>0.69</td>\n",
       "      <td>1M</td>\n",
       "      <td>Renew</td>\n",
       "      <td>2019-11-20T21:24:37Z</td>\n",
       "      <td>2019-12-03T23:33:27Z</td>\n",
       "      <td>NaN</td>\n",
       "      <td>1</td>\n",
       "      <td>49</td>\n",
       "      <td>15.19</td>\n",
       "    </tr>\n",
       "    <tr>\n",
       "      <th>3</th>\n",
       "      <td>129362</td>\n",
       "      <td>869645.0</td>\n",
       "      <td>1004638</td>\n",
       "      <td>Paid</td>\n",
       "      <td>Active</td>\n",
       "      <td>1</td>\n",
       "      <td>6</td>\n",
       "      <td>0.44</td>\n",
       "      <td>1Y</td>\n",
       "      <td>Renew</td>\n",
       "      <td>2019-12-04T00:37:05Z</td>\n",
       "      <td>2019-12-15T13:13:30Z</td>\n",
       "      <td>NaN</td>\n",
       "      <td>12</td>\n",
       "      <td>72</td>\n",
       "      <td>40.32</td>\n",
       "    </tr>\n",
       "    <tr>\n",
       "      <th>4</th>\n",
       "      <td>47277</td>\n",
       "      <td>843127.0</td>\n",
       "      <td>1184209</td>\n",
       "      <td>Paid</td>\n",
       "      <td>Active</td>\n",
       "      <td>3</td>\n",
       "      <td>13</td>\n",
       "      <td>0.34</td>\n",
       "      <td>1Y</td>\n",
       "      <td>Renew</td>\n",
       "      <td>2019-11-06T21:24:30Z</td>\n",
       "      <td>2019-12-04T03:37:11Z</td>\n",
       "      <td>NaN</td>\n",
       "      <td>12</td>\n",
       "      <td>156</td>\n",
       "      <td>102.96</td>\n",
       "    </tr>\n",
       "  </tbody>\n",
       "</table>\n",
       "</div>"
      ],
      "text/plain": [
       "   client_id  invoice_id  invoice_item_id invoice_status service_status  \\\n",
       "0       9162    872143.0          1115707           Paid         Active   \n",
       "1     246708    875146.0           841327           Paid         Active   \n",
       "2      52476    856128.0          1197628           Paid         Active   \n",
       "3     129362    869645.0          1004638           Paid         Active   \n",
       "4      47277    843127.0          1184209           Paid         Active   \n",
       "\n",
       "   product_id  monthly_price_usd  discount service_period client_task  \\\n",
       "0           4                 18      0.42             1Y       Renew   \n",
       "1          11                 39      0.14             1M    Activate   \n",
       "2          12                 49      0.69             1M       Renew   \n",
       "3           1                  6      0.44             1Y       Renew   \n",
       "4           3                 13      0.34             1Y       Renew   \n",
       "\n",
       "     invoice_created_at       invoice_paid_at service_cancelled_at  \\\n",
       "0  2019-12-05T22:36:44Z  2019-12-25T12:30:11Z                  NaN   \n",
       "1  2019-12-09T04:20:49Z  2019-12-09T04:25:11Z                  NaN   \n",
       "2  2019-11-20T21:24:37Z  2019-12-03T23:33:27Z                  NaN   \n",
       "3  2019-12-04T00:37:05Z  2019-12-15T13:13:30Z                  NaN   \n",
       "4  2019-11-06T21:24:30Z  2019-12-04T03:37:11Z                  NaN   \n",
       "\n",
       "   monthly_period  total_price  discounted_price  \n",
       "0              12          216            125.28  \n",
       "1               1           39             33.54  \n",
       "2               1           49             15.19  \n",
       "3              12           72             40.32  \n",
       "4              12          156            102.96  "
      ]
     },
     "execution_count": 4,
     "metadata": {},
     "output_type": "execute_result"
    }
   ],
   "source": [
    "df.head() # Check top five data"
   ]
  },
  {
   "cell_type": "code",
   "execution_count": 5,
   "metadata": {},
   "outputs": [
    {
     "data": {
      "text/plain": [
       "(89545, 16)"
      ]
     },
     "execution_count": 5,
     "metadata": {},
     "output_type": "execute_result"
    }
   ],
   "source": [
    "df.shape # Check number of rows and columns"
   ]
  },
  {
   "cell_type": "code",
   "execution_count": 6,
   "metadata": {},
   "outputs": [
    {
     "name": "stdout",
     "output_type": "stream",
     "text": [
      "<class 'pandas.core.frame.DataFrame'>\n",
      "RangeIndex: 89545 entries, 0 to 89544\n",
      "Data columns (total 16 columns):\n",
      "client_id               89545 non-null int64\n",
      "invoice_id              89545 non-null float64\n",
      "invoice_item_id         89545 non-null int64\n",
      "invoice_status          89545 non-null object\n",
      "service_status          89545 non-null object\n",
      "product_id              89545 non-null int64\n",
      "monthly_price_usd       89545 non-null int64\n",
      "discount                89545 non-null float64\n",
      "service_period          89545 non-null object\n",
      "client_task             89545 non-null object\n",
      "invoice_created_at      89545 non-null object\n",
      "invoice_paid_at         53755 non-null object\n",
      "service_cancelled_at    21756 non-null object\n",
      "monthly_period          89545 non-null int64\n",
      "total_price             89545 non-null int64\n",
      "discounted_price        89545 non-null float64\n",
      "dtypes: float64(3), int64(6), object(7)\n",
      "memory usage: 10.9+ MB\n"
     ]
    }
   ],
   "source": [
    "df.info() # Check the data general info"
   ]
  },
  {
   "cell_type": "code",
   "execution_count": 7,
   "metadata": {},
   "outputs": [
    {
     "data": {
      "text/html": [
       "<div>\n",
       "<style scoped>\n",
       "    .dataframe tbody tr th:only-of-type {\n",
       "        vertical-align: middle;\n",
       "    }\n",
       "\n",
       "    .dataframe tbody tr th {\n",
       "        vertical-align: top;\n",
       "    }\n",
       "\n",
       "    .dataframe thead th {\n",
       "        text-align: right;\n",
       "    }\n",
       "</style>\n",
       "<table border=\"1\" class=\"dataframe\">\n",
       "  <thead>\n",
       "    <tr style=\"text-align: right;\">\n",
       "      <th></th>\n",
       "      <th>client_id</th>\n",
       "      <th>invoice_id</th>\n",
       "      <th>invoice_item_id</th>\n",
       "      <th>product_id</th>\n",
       "      <th>monthly_price_usd</th>\n",
       "      <th>discount</th>\n",
       "      <th>monthly_period</th>\n",
       "      <th>total_price</th>\n",
       "      <th>discounted_price</th>\n",
       "    </tr>\n",
       "  </thead>\n",
       "  <tbody>\n",
       "    <tr>\n",
       "      <th>count</th>\n",
       "      <td>89545.000000</td>\n",
       "      <td>89545.000000</td>\n",
       "      <td>8.954500e+04</td>\n",
       "      <td>89545.000000</td>\n",
       "      <td>89545.000000</td>\n",
       "      <td>89545.000000</td>\n",
       "      <td>89545.000000</td>\n",
       "      <td>89545.000000</td>\n",
       "      <td>89545.000000</td>\n",
       "    </tr>\n",
       "    <tr>\n",
       "      <th>mean</th>\n",
       "      <td>151297.438684</td>\n",
       "      <td>737033.606176</td>\n",
       "      <td>1.022266e+06</td>\n",
       "      <td>3.727310</td>\n",
       "      <td>15.793512</td>\n",
       "      <td>0.424860</td>\n",
       "      <td>14.413624</td>\n",
       "      <td>201.450444</td>\n",
       "      <td>97.297541</td>\n",
       "    </tr>\n",
       "    <tr>\n",
       "      <th>std</th>\n",
       "      <td>67872.812261</td>\n",
       "      <td>85770.813728</td>\n",
       "      <td>1.130957e+05</td>\n",
       "      <td>2.722953</td>\n",
       "      <td>13.015129</td>\n",
       "      <td>1.753377</td>\n",
       "      <td>9.569462</td>\n",
       "      <td>207.633054</td>\n",
       "      <td>311.110162</td>\n",
       "    </tr>\n",
       "    <tr>\n",
       "      <th>min</th>\n",
       "      <td>22.000000</td>\n",
       "      <td>583739.000000</td>\n",
       "      <td>8.246620e+05</td>\n",
       "      <td>1.000000</td>\n",
       "      <td>6.000000</td>\n",
       "      <td>0.000000</td>\n",
       "      <td>1.000000</td>\n",
       "      <td>17.000000</td>\n",
       "      <td>-80049.840000</td>\n",
       "    </tr>\n",
       "    <tr>\n",
       "      <th>25%</th>\n",
       "      <td>101490.000000</td>\n",
       "      <td>661872.000000</td>\n",
       "      <td>9.251270e+05</td>\n",
       "      <td>2.000000</td>\n",
       "      <td>9.000000</td>\n",
       "      <td>0.310000</td>\n",
       "      <td>12.000000</td>\n",
       "      <td>108.000000</td>\n",
       "      <td>74.000000</td>\n",
       "    </tr>\n",
       "    <tr>\n",
       "      <th>50%</th>\n",
       "      <td>155571.000000</td>\n",
       "      <td>737965.000000</td>\n",
       "      <td>1.018091e+06</td>\n",
       "      <td>3.000000</td>\n",
       "      <td>13.000000</td>\n",
       "      <td>0.420000</td>\n",
       "      <td>12.000000</td>\n",
       "      <td>156.000000</td>\n",
       "      <td>78.000000</td>\n",
       "    </tr>\n",
       "    <tr>\n",
       "      <th>75%</th>\n",
       "      <td>208243.000000</td>\n",
       "      <td>810130.000000</td>\n",
       "      <td>1.113774e+06</td>\n",
       "      <td>4.000000</td>\n",
       "      <td>17.000000</td>\n",
       "      <td>0.500000</td>\n",
       "      <td>12.000000</td>\n",
       "      <td>216.000000</td>\n",
       "      <td>117.000000</td>\n",
       "    </tr>\n",
       "    <tr>\n",
       "      <th>max</th>\n",
       "      <td>260103.000000</td>\n",
       "      <td>882312.000000</td>\n",
       "      <td>1.234070e+06</td>\n",
       "      <td>14.000000</td>\n",
       "      <td>124.000000</td>\n",
       "      <td>514.140000</td>\n",
       "      <td>36.000000</td>\n",
       "      <td>4464.000000</td>\n",
       "      <td>4464.000000</td>\n",
       "    </tr>\n",
       "  </tbody>\n",
       "</table>\n",
       "</div>"
      ],
      "text/plain": [
       "           client_id     invoice_id  invoice_item_id    product_id  \\\n",
       "count   89545.000000   89545.000000     8.954500e+04  89545.000000   \n",
       "mean   151297.438684  737033.606176     1.022266e+06      3.727310   \n",
       "std     67872.812261   85770.813728     1.130957e+05      2.722953   \n",
       "min        22.000000  583739.000000     8.246620e+05      1.000000   \n",
       "25%    101490.000000  661872.000000     9.251270e+05      2.000000   \n",
       "50%    155571.000000  737965.000000     1.018091e+06      3.000000   \n",
       "75%    208243.000000  810130.000000     1.113774e+06      4.000000   \n",
       "max    260103.000000  882312.000000     1.234070e+06     14.000000   \n",
       "\n",
       "       monthly_price_usd      discount  monthly_period   total_price  \\\n",
       "count       89545.000000  89545.000000    89545.000000  89545.000000   \n",
       "mean           15.793512      0.424860       14.413624    201.450444   \n",
       "std            13.015129      1.753377        9.569462    207.633054   \n",
       "min             6.000000      0.000000        1.000000     17.000000   \n",
       "25%             9.000000      0.310000       12.000000    108.000000   \n",
       "50%            13.000000      0.420000       12.000000    156.000000   \n",
       "75%            17.000000      0.500000       12.000000    216.000000   \n",
       "max           124.000000    514.140000       36.000000   4464.000000   \n",
       "\n",
       "       discounted_price  \n",
       "count      89545.000000  \n",
       "mean          97.297541  \n",
       "std          311.110162  \n",
       "min       -80049.840000  \n",
       "25%           74.000000  \n",
       "50%           78.000000  \n",
       "75%          117.000000  \n",
       "max         4464.000000  "
      ]
     },
     "execution_count": 7,
     "metadata": {},
     "output_type": "execute_result"
    }
   ],
   "source": [
    "df.describe() # Check out the summary statistics for numerical (int and float)"
   ]
  },
  {
   "cell_type": "code",
   "execution_count": 8,
   "metadata": {},
   "outputs": [
    {
     "data": {
      "text/html": [
       "<div>\n",
       "<style scoped>\n",
       "    .dataframe tbody tr th:only-of-type {\n",
       "        vertical-align: middle;\n",
       "    }\n",
       "\n",
       "    .dataframe tbody tr th {\n",
       "        vertical-align: top;\n",
       "    }\n",
       "\n",
       "    .dataframe thead th {\n",
       "        text-align: right;\n",
       "    }\n",
       "</style>\n",
       "<table border=\"1\" class=\"dataframe\">\n",
       "  <thead>\n",
       "    <tr style=\"text-align: right;\">\n",
       "      <th></th>\n",
       "      <th>invoice_status</th>\n",
       "      <th>service_status</th>\n",
       "      <th>service_period</th>\n",
       "      <th>client_task</th>\n",
       "      <th>invoice_created_at</th>\n",
       "      <th>invoice_paid_at</th>\n",
       "      <th>service_cancelled_at</th>\n",
       "    </tr>\n",
       "  </thead>\n",
       "  <tbody>\n",
       "    <tr>\n",
       "      <th>count</th>\n",
       "      <td>89545</td>\n",
       "      <td>89545</td>\n",
       "      <td>89545</td>\n",
       "      <td>89545</td>\n",
       "      <td>89545</td>\n",
       "      <td>53755</td>\n",
       "      <td>21756</td>\n",
       "    </tr>\n",
       "    <tr>\n",
       "      <th>unique</th>\n",
       "      <td>4</td>\n",
       "      <td>5</td>\n",
       "      <td>6</td>\n",
       "      <td>2</td>\n",
       "      <td>85060</td>\n",
       "      <td>50163</td>\n",
       "      <td>18759</td>\n",
       "    </tr>\n",
       "    <tr>\n",
       "      <th>top</th>\n",
       "      <td>Paid</td>\n",
       "      <td>Active</td>\n",
       "      <td>1Y</td>\n",
       "      <td>Activate</td>\n",
       "      <td>2019-12-06T15:12:14Z</td>\n",
       "      <td>2019-08-30T17:00:00Z</td>\n",
       "      <td>2020-01-12T18:36:18Z</td>\n",
       "    </tr>\n",
       "    <tr>\n",
       "      <th>freq</th>\n",
       "      <td>53069</td>\n",
       "      <td>49957</td>\n",
       "      <td>63587</td>\n",
       "      <td>47699</td>\n",
       "      <td>22</td>\n",
       "      <td>39</td>\n",
       "      <td>14</td>\n",
       "    </tr>\n",
       "  </tbody>\n",
       "</table>\n",
       "</div>"
      ],
      "text/plain": [
       "       invoice_status service_status service_period client_task  \\\n",
       "count           89545          89545          89545       89545   \n",
       "unique              4              5              6           2   \n",
       "top              Paid         Active             1Y    Activate   \n",
       "freq            53069          49957          63587       47699   \n",
       "\n",
       "          invoice_created_at       invoice_paid_at  service_cancelled_at  \n",
       "count                  89545                 53755                 21756  \n",
       "unique                 85060                 50163                 18759  \n",
       "top     2019-12-06T15:12:14Z  2019-08-30T17:00:00Z  2020-01-12T18:36:18Z  \n",
       "freq                      22                    39                    14  "
      ]
     },
     "execution_count": 8,
     "metadata": {},
     "output_type": "execute_result"
    }
   ],
   "source": [
    "df.describe(include='object') # Summary statistics for categorical (object)"
   ]
  },
  {
   "cell_type": "markdown",
   "metadata": {},
   "source": [
    "**After checking the basic overview of the data, I'm good to go with the questions**"
   ]
  },
  {
   "cell_type": "markdown",
   "metadata": {},
   "source": [
    "## Checking out duplicates and missing rows"
   ]
  },
  {
   "cell_type": "markdown",
   "metadata": {},
   "source": [
    "### 1) Check the duplicated rows"
   ]
  },
  {
   "cell_type": "code",
   "execution_count": 9,
   "metadata": {},
   "outputs": [
    {
     "data": {
      "text/plain": [
       "0"
      ]
     },
     "execution_count": 9,
     "metadata": {},
     "output_type": "execute_result"
    }
   ],
   "source": [
    "# Checking duplicates\n",
    "df.duplicated().sum()"
   ]
  },
  {
   "cell_type": "markdown",
   "metadata": {},
   "source": [
    "Apparently, **there is no indication of duplicated rows** in the dataset. While in fact that many duplicates in each column, however, as together in a row, there is no duplicates. Hence, I consider it as no indication of duplicates."
   ]
  },
  {
   "cell_type": "markdown",
   "metadata": {},
   "source": [
    "### 2) Check the missing values"
   ]
  },
  {
   "cell_type": "code",
   "execution_count": 12,
   "metadata": {},
   "outputs": [
    {
     "data": {
      "text/plain": [
       "client_id                   0\n",
       "invoice_id                  0\n",
       "invoice_item_id             0\n",
       "invoice_status              0\n",
       "service_status              0\n",
       "product_id                  0\n",
       "monthly_price_usd           0\n",
       "discount                    0\n",
       "service_period              0\n",
       "client_task                 0\n",
       "invoice_created_at          0\n",
       "invoice_paid_at         35790\n",
       "service_cancelled_at    67789\n",
       "monthly_period              0\n",
       "total_price                 0\n",
       "discounted_price            0\n",
       "dtype: int64"
      ]
     },
     "execution_count": 12,
     "metadata": {},
     "output_type": "execute_result"
    }
   ],
   "source": [
    "df.isna().sum() # Count the number of missing values in each column"
   ]
  },
  {
   "cell_type": "markdown",
   "metadata": {},
   "source": [
    "According to this result, we can conclude that there is 35,790 missing values in **inovice_paid_at** variable and 67,789 missing values in **service_cancelled_at**. The reasons of why these variables got so many missing values (NaN) are: (1) the 35,790 invoices have been created, but the payments (or further confirmations) haven't been paid yet, so that the data hasn't get recorded yet in the dataset and (2) the rest 67,789 invoice has been created and these have been paid, then they recorded the data on the invoice_paid_at column. In other words, 67,789 records are either it recorded in the paid invoice or it hasn't been recorded yet."
   ]
  },
  {
   "cell_type": "markdown",
   "metadata": {},
   "source": [
    "## Total revenue group by product"
   ]
  },
  {
   "cell_type": "code",
   "execution_count": 30,
   "metadata": {},
   "outputs": [
    {
     "name": "stdout",
     "output_type": "stream",
     "text": [
      "The total revenue is US$ 4974622.63 from 53069 sales\n"
     ]
    }
   ],
   "source": [
    "# consider sales as the invoice status is 'paid'\n",
    "print('The total revenue is US$',df[df['invoice_status']=='Paid'].discounted_price.sum(),'from',df[df.invoice_status=='Paid'].invoice_id.count(),'sales')"
   ]
  },
  {
   "cell_type": "code",
   "execution_count": 51,
   "metadata": {},
   "outputs": [
    {
     "data": {
      "text/plain": [
       "product_id\n",
       "3     2113157.28\n",
       "4      908598.60\n",
       "2      714802.32\n",
       "1      200150.28\n",
       "11     198414.84\n",
       "7      157078.40\n",
       "12     152207.72\n",
       "14     147498.22\n",
       "10      99083.88\n",
       "9       98756.57\n",
       "5       73166.64\n",
       "13      57639.34\n",
       "6       37486.02\n",
       "8       16582.52\n",
       "Name: discounted_price, dtype: float64"
      ]
     },
     "execution_count": 51,
     "metadata": {},
     "output_type": "execute_result"
    }
   ],
   "source": [
    "# The total revenue by product\n",
    "df[df.invoice_status=='Paid'].groupby('product_id').discounted_price.sum().sort_values(ascending=False)"
   ]
  },
  {
   "cell_type": "markdown",
   "metadata": {},
   "source": [
    "## Determining loyal customers"
   ]
  },
  {
   "cell_type": "markdown",
   "metadata": {},
   "source": [
    "I consider the top 100 loyal customers are whom that have already spent the most compared to other customers."
   ]
  },
  {
   "cell_type": "code",
   "execution_count": 52,
   "metadata": {},
   "outputs": [
    {
     "data": {
      "text/plain": [
       "client_id\n",
       "147944    14257.08\n",
       "16146      7789.44\n",
       "108912     7708.32\n",
       "189676     6138.72\n",
       "167243     5544.00\n",
       "72630      4754.60\n",
       "156703     3996.00\n",
       "216481     3650.40\n",
       "174555     3545.64\n",
       "116936     3374.40\n",
       "112676     3189.84\n",
       "81141      3105.00\n",
       "225480     3100.32\n",
       "116962     3002.52\n",
       "42628      2915.16\n",
       "41153      2911.80\n",
       "106964     2844.00\n",
       "131891     2838.00\n",
       "251982     2822.40\n",
       "195794     2815.56\n",
       "254024     2773.44\n",
       "62577      2716.60\n",
       "80941      2716.32\n",
       "224887     2689.20\n",
       "4486       2686.26\n",
       "128128     2672.88\n",
       "143719     2657.60\n",
       "41084      2625.12\n",
       "162740     2621.40\n",
       "61818      2548.32\n",
       "            ...   \n",
       "163469     1724.64\n",
       "35736      1717.44\n",
       "151587     1690.40\n",
       "132518     1680.00\n",
       "239649     1660.80\n",
       "75177      1647.68\n",
       "32234      1632.12\n",
       "241280     1630.00\n",
       "156615     1626.80\n",
       "61106      1620.00\n",
       "87989      1602.24\n",
       "113645     1601.28\n",
       "61259      1600.56\n",
       "132218     1597.80\n",
       "110274     1596.17\n",
       "59190      1593.52\n",
       "201208     1586.52\n",
       "177011     1579.20\n",
       "134730     1579.20\n",
       "152597     1579.20\n",
       "73224      1579.20\n",
       "73500      1579.20\n",
       "10016      1574.28\n",
       "51865      1569.96\n",
       "125810     1563.00\n",
       "61278      1533.96\n",
       "216139     1506.56\n",
       "141516     1501.40\n",
       "169128     1482.00\n",
       "227177     1475.04\n",
       "Name: discounted_price, Length: 100, dtype: float64"
      ]
     },
     "execution_count": 52,
     "metadata": {},
     "output_type": "execute_result"
    }
   ],
   "source": [
    "# top 100 loyal customers\n",
    "df[df['invoice_status']=='Paid'].groupby('client_id').discounted_price.sum().sort_values(ascending=False).head(100)"
   ]
  },
  {
   "cell_type": "markdown",
   "metadata": {},
   "source": [
    "## Estimate average payment period (using median due to skewed frequency distribution dataset)"
   ]
  },
  {
   "cell_type": "code",
   "execution_count": 53,
   "metadata": {},
   "outputs": [],
   "source": [
    "# set the invoice date into the date type data instead of object\n",
    "df['invoice_paid_at'] = pd.to_datetime(df['invoice_paid_at'])\n",
    "df['invoice_created_at'] = pd.to_datetime(df['invoice_created_at'])"
   ]
  },
  {
   "cell_type": "code",
   "execution_count": 54,
   "metadata": {},
   "outputs": [
    {
     "data": {
      "text/plain": [
       "0   2019-12-25 12:30:11+00:00\n",
       "1   2019-12-09 04:25:11+00:00\n",
       "2   2019-12-03 23:33:27+00:00\n",
       "3   2019-12-15 13:13:30+00:00\n",
       "4   2019-12-04 03:37:11+00:00\n",
       "Name: invoice_paid_at, dtype: datetime64[ns, UTC]"
      ]
     },
     "execution_count": 54,
     "metadata": {},
     "output_type": "execute_result"
    }
   ],
   "source": [
    "df['invoice_paid_at'].head() # Both data format and result have changed"
   ]
  },
  {
   "cell_type": "code",
   "execution_count": 55,
   "metadata": {},
   "outputs": [
    {
     "data": {
      "text/plain": [
       "0   2019-12-05 22:36:44+00:00\n",
       "1   2019-12-09 04:20:49+00:00\n",
       "2   2019-11-20 21:24:37+00:00\n",
       "3   2019-12-04 00:37:05+00:00\n",
       "4   2019-11-06 21:24:30+00:00\n",
       "Name: invoice_created_at, dtype: datetime64[ns, UTC]"
      ]
     },
     "execution_count": 55,
     "metadata": {},
     "output_type": "execute_result"
    }
   ],
   "source": [
    "df['invoice_created_at'].head() # Both data format and result have changed"
   ]
  },
  {
   "cell_type": "code",
   "execution_count": 56,
   "metadata": {},
   "outputs": [],
   "source": [
    "# To products that have been paid, calculate the difference between invoice created date and its paid date\n",
    "df['payment_duration'] = df['invoice_paid_at'] - df['invoice_created_at']"
   ]
  },
  {
   "cell_type": "code",
   "execution_count": 57,
   "metadata": {},
   "outputs": [
    {
     "data": {
      "text/plain": [
       "count                      53755\n",
       "mean      5 days 10:22:32.283992\n",
       "std      12 days 01:25:09.286425\n",
       "min           -17 days +00:00:00\n",
       "25%              0 days 00:10:56\n",
       "50%              0 days 06:56:55\n",
       "75%       9 days 09:00:33.500000\n",
       "max            343 days 14:30:07\n",
       "Name: payment_duration, dtype: object"
      ]
     },
     "execution_count": 57,
     "metadata": {},
     "output_type": "execute_result"
    }
   ],
   "source": [
    "df['payment_duration'].describe()"
   ]
  },
  {
   "cell_type": "markdown",
   "metadata": {},
   "source": [
    "This plot suggests that the data contained the outliers with a very high number and also dominated by a very little number such as zero. Then, to treat this problem, particularly in calculating the average, then **the data would be overestimated from the unecessary outliers** and the average **should be calculated using median**."
   ]
  },
  {
   "cell_type": "code",
   "execution_count": 58,
   "metadata": {},
   "outputs": [
    {
     "data": {
      "text/plain": [
       "Timedelta('0 days 05:55:09.500000')"
      ]
     },
     "execution_count": 58,
     "metadata": {},
     "output_type": "execute_result"
    }
   ],
   "source": [
    "# Calculating the average of payment duration within a month treshold\n",
    "df[df['payment_duration'].dt.days < 32].payment_duration.median()"
   ]
  },
  {
   "cell_type": "code",
   "execution_count": 59,
   "metadata": {},
   "outputs": [
    {
     "data": {
      "text/plain": [
       "<matplotlib.axes._subplots.AxesSubplot at 0x1a2542c1d0>"
      ]
     },
     "execution_count": 59,
     "metadata": {},
     "output_type": "execute_result"
    },
    {
     "data": {
      "image/png": "[encoded data removed]",
      "text/plain": [
       "<Figure size 432x288 with 1 Axes>"
      ]
     },
     "metadata": {
      "needs_background": "light"
     },
     "output_type": "display_data"
    }
   ],
   "source": [
    "df.payment_duration.dt.days.value_counts().sort_index().plot()"
   ]
  },
  {
   "cell_type": "markdown",
   "metadata": {},
   "source": [
    "This data clearly states that the average (median) payment duration within a month treshold is around **6 hours**."
   ]
  },
  {
   "cell_type": "code",
   "execution_count": 66,
   "metadata": {},
   "outputs": [
    {
     "name": "stdout",
     "output_type": "stream",
     "text": [
      "There are only 767 transactions that get paid more than a month which I consider as the outliers\n"
     ]
    }
   ],
   "source": [
    "# \n",
    "outliers = df[df['payment_duration'].dt.days > 31].payment_duration.count()\n",
    "print('There are only', outliers, 'transactions that get paid more than a month which I consider as the outliers')"
   ]
  },
  {
   "cell_type": "markdown",
   "metadata": {},
   "source": [
    "## Generating some insights"
   ]
  },
  {
   "cell_type": "code",
   "execution_count": 67,
   "metadata": {},
   "outputs": [
    {
     "data": {
      "text/plain": [
       "Activate    47699\n",
       "Renew       41846\n",
       "Name: client_task, dtype: int64"
      ]
     },
     "execution_count": 67,
     "metadata": {},
     "output_type": "execute_result"
    }
   ],
   "source": [
    "df.client_task.value_counts()"
   ]
  },
  {
   "cell_type": "code",
   "execution_count": 68,
   "metadata": {},
   "outputs": [
    {
     "data": {
      "text/html": [
       "<div>\n",
       "<style scoped>\n",
       "    .dataframe tbody tr th:only-of-type {\n",
       "        vertical-align: middle;\n",
       "    }\n",
       "\n",
       "    .dataframe tbody tr th {\n",
       "        vertical-align: top;\n",
       "    }\n",
       "\n",
       "    .dataframe thead th {\n",
       "        text-align: right;\n",
       "    }\n",
       "</style>\n",
       "<table border=\"1\" class=\"dataframe\">\n",
       "  <thead>\n",
       "    <tr style=\"text-align: right;\">\n",
       "      <th>client_task</th>\n",
       "      <th>Activate</th>\n",
       "      <th>Renew</th>\n",
       "    </tr>\n",
       "    <tr>\n",
       "      <th>service_status</th>\n",
       "      <th></th>\n",
       "      <th></th>\n",
       "    </tr>\n",
       "  </thead>\n",
       "  <tbody>\n",
       "    <tr>\n",
       "      <th>Active</th>\n",
       "      <td>28586</td>\n",
       "      <td>21371</td>\n",
       "    </tr>\n",
       "    <tr>\n",
       "      <th>Cancelled</th>\n",
       "      <td>2594</td>\n",
       "      <td>19779</td>\n",
       "    </tr>\n",
       "    <tr>\n",
       "      <th>Failed Setup</th>\n",
       "      <td>43</td>\n",
       "      <td>1</td>\n",
       "    </tr>\n",
       "    <tr>\n",
       "      <th>Pending Setup</th>\n",
       "      <td>15970</td>\n",
       "      <td>20</td>\n",
       "    </tr>\n",
       "    <tr>\n",
       "      <th>Suspended</th>\n",
       "      <td>506</td>\n",
       "      <td>675</td>\n",
       "    </tr>\n",
       "  </tbody>\n",
       "</table>\n",
       "</div>"
      ],
      "text/plain": [
       "client_task     Activate  Renew\n",
       "service_status                 \n",
       "Active             28586  21371\n",
       "Cancelled           2594  19779\n",
       "Failed Setup          43      1\n",
       "Pending Setup      15970     20\n",
       "Suspended            506    675"
      ]
     },
     "execution_count": 68,
     "metadata": {},
     "output_type": "execute_result"
    }
   ],
   "source": [
    "pd.crosstab(df.service_status,df.client_task)"
   ]
  },
  {
   "cell_type": "markdown",
   "metadata": {},
   "source": [
    "**Insight 1:** A majority who has cancelled the service, mostly from the renew client."
   ]
  },
  {
   "cell_type": "code",
   "execution_count": 69,
   "metadata": {},
   "outputs": [
    {
     "data": {
      "text/plain": [
       "invoice_created_at\n",
       "8     838970.26\n",
       "11    833103.70\n",
       "9     820600.00\n",
       "10    817676.23\n",
       "1     729374.82\n",
       "7     725619.85\n",
       "2     716208.94\n",
       "12    688445.00\n",
       "3     669544.67\n",
       "5     657113.35\n",
       "4     623618.72\n",
       "6     592232.76\n",
       "Name: discounted_price, dtype: float64"
      ]
     },
     "execution_count": 69,
     "metadata": {},
     "output_type": "execute_result"
    }
   ],
   "source": [
    "df.groupby(df.invoice_created_at.dt.month).discounted_price.sum().sort_values(ascending=False)"
   ]
  },
  {
   "cell_type": "markdown",
   "metadata": {},
   "source": [
    "**Insight 2:** There is an indication that the sales more likely to spike around month 8-11."
   ]
  }
 ],
 "metadata": {
  "kernelspec": {
   "display_name": "Python 3",
   "language": "python",
   "name": "python3"
  },
  "language_info": {
   "codemirror_mode": {
    "name": "ipython",
    "version": 3
   },
   "file_extension": ".py",
   "mimetype": "text/x-python",
   "name": "python",
   "nbconvert_exporter": "python",
   "pygments_lexer": "ipython3",
   "version": "3.7.3"
  }
 },
 "nbformat": 4,
 "nbformat_minor": 2
}
